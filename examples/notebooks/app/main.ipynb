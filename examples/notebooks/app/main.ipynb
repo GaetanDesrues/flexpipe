{
 "cells": [
  {
   "cell_type": "code",
   "execution_count": 1,
   "metadata": {},
   "outputs": [],
   "source": [
    "import os\n",
    "import logging\n",
    "from pathlib import Path\n",
    "import seaborn as sns\n",
    "\n",
    "from flexpipe import Pipeline, Transformation as Tr\n",
    "\n",
    "log = logging.getLogger(__name__)\n",
    "logging.basicConfig(level=logging.DEBUG)"
   ]
  },
  {
   "cell_type": "code",
   "execution_count": 2,
   "metadata": {},
   "outputs": [],
   "source": [
    "class TSnsLoad(Tr):\n",
    "    def process(self, dataset):\n",
    "        self.df = sns.load_dataset(dataset)\n",
    "\n",
    "\n",
    "class TRenameCols(Tr):\n",
    "    def process(self):\n",
    "        self.delete_step = True\n",
    "\n",
    "        self.df = self.prev_df\n",
    "        self.df.rename(columns={\"species\": \"sp\"}, inplace=True)\n",
    "\n",
    "\n",
    "class TSave(Tr):\n",
    "    def process(self, fname):\n",
    "        self.prev_df.to_csv(self.get_fname(fname))"
   ]
  },
  {
   "cell_type": "code",
   "execution_count": null,
   "metadata": {},
   "outputs": [],
   "source": [
    "out = Path(\"/work/out\")\n",
    "\n",
    "with Pipeline(out) as x:\n",
    "    x.start(\n",
    "        TSnsLoad(\"iris\", lazy=True),\n",
    "        # TRenameCols(),\n",
    "        # TSave(\"last_df.csv\"),\n",
    "    )"
   ]
  },
  {
   "cell_type": "code",
   "execution_count": null,
   "metadata": {},
   "outputs": [],
   "source": []
  }
 ],
 "metadata": {
  "kernelspec": {
   "display_name": "Python 3 (ipykernel)",
   "language": "python",
   "name": "python3"
  },
  "language_info": {
   "codemirror_mode": {
    "name": "ipython",
    "version": 3
   },
   "file_extension": ".py",
   "mimetype": "text/x-python",
   "name": "python",
   "nbconvert_exporter": "python",
   "pygments_lexer": "ipython3",
   "version": "3.11.6"
  }
 },
 "nbformat": 4,
 "nbformat_minor": 4
}
